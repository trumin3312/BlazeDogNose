{
 "cells": [
  {
   "cell_type": "code",
   "execution_count": 1,
   "metadata": {},
   "outputs": [],
   "source": [
    "import torch.onnx\n",
    "\n",
    "input_size = (1, 3, 128, 128)\n",
    "save_path = \"../../blazeface/weights/20230823/Blaze_Final.onnx\"\n",
    "\n",
    "#Function to Convert to ONNX\n",
    "def Convert_ONNX(model):\n",
    "\n",
    "    # set the model to inference mode \n",
    "    model.eval() \n",
    "\n",
    "    # Let's create a dummy input tensor  \n",
    "    dummy_input = torch.randn(input_size, requires_grad=True)  \n",
    "\n",
    "    # Export the model   \n",
    "    torch.onnx.export(model,         # model being run \n",
    "                    dummy_input,       # model input (or a tuple for multiple inputs) \n",
    "                    save_path,       # where to save the model  \n",
    "                    export_params=True,  # store the trained parameter weights inside the model file \n",
    "                    opset_version=12,    # the ONNX version to export the model to \n",
    "                    do_constant_folding=True,  # whether to execute constant folding for optimization \n",
    "                    input_names = ['Input'],   # the model's input names \n",
    "                    output_names = ['Output'], # the model's output names \n",
    "                    #  dynamic_axes={'modelInput' : {0 : 'batch_size'},    # variable length axes \n",
    "                    #                         'modelOutput' : {0 : 'batch_size'}}\n",
    "    ) \n",
    "    print(\" \") \n",
    "    print('Model has been converted to ONNX')"
   ]
  },
  {
   "cell_type": "code",
   "execution_count": 2,
   "metadata": {},
   "outputs": [
    {
     "name": "stdout",
     "output_type": "stream",
     "text": [
      "================ Diagnostic Run torch.onnx.export version 2.0.1 ================\n",
      "verbose: False, log level: Level.ERROR\n",
      "======================= 0 NONE 0 NOTE 0 WARNING 0 ERROR ========================\n",
      "\n",
      " \n",
      "Model has been converted to ONNX\n"
     ]
    }
   ],
   "source": [
    "from models.net_blaze import Blaze\n",
    "cfg_blaze = {\n",
    "    'name': 'Blaze',\n",
    "    # origin anchor\n",
    "    'min_sizes': [[16, 24], [32, 48, 64, 80, 96, 128]],\n",
    "    # kmeans and evolving for 640x640\n",
    "    #'min_sizes': [[8, 11], [14, 19, 26, 38, 64, 149]], \n",
    "    'steps': [8, 16],\n",
    "    'variance': [0.1, 0.2],\n",
    "    'clip': False,\n",
    "    'loc_weight': 1,\n",
    "    'cls_weight': 6,\n",
    "    'landm_weight': 0.1, \n",
    "    'gpu_train': True,\n",
    "    'batch_size': 256,\n",
    "    'ngpu': 1,\n",
    "    'epoch': 1,\n",
    "    'decay1': 130,\n",
    "    'decay2': 160,\n",
    "    'decay3': 175,\n",
    "    'decay4': 185,\n",
    "    #'image_size': 320,\n",
    "    'image_size': 128,\n",
    "    'num_classes':2\n",
    "}\n",
    "\n",
    "model = Blaze(cfg=cfg_blaze)\n",
    "load_path = \"../../blazeface/weights/20230823/Blaze_Final.pth\"\n",
    "state_dict = torch.load(load_path)\n",
    "# create new OrderedDict that does not contain `module.`\n",
    "from collections import OrderedDict\n",
    "new_state_dict = OrderedDict()\n",
    "for k, v in state_dict.items():\n",
    "    head = k[:7]\n",
    "    if head == 'module.':\n",
    "        name = k[7:] # remove `module.`\n",
    "    else:\n",
    "        name = k\n",
    "    new_state_dict[name] = v\n",
    "model.load_state_dict(new_state_dict)\n",
    "\n",
    "# Conversion to ONNX \n",
    "Convert_ONNX(model)"
   ]
  }
 ],
 "metadata": {
  "kernelspec": {
   "display_name": "tf212",
   "language": "python",
   "name": "python3"
  },
  "language_info": {
   "codemirror_mode": {
    "name": "ipython",
    "version": 3
   },
   "file_extension": ".py",
   "mimetype": "text/x-python",
   "name": "python",
   "nbconvert_exporter": "python",
   "pygments_lexer": "ipython3",
   "version": "3.8.16"
  },
  "orig_nbformat": 4
 },
 "nbformat": 4,
 "nbformat_minor": 2
}
